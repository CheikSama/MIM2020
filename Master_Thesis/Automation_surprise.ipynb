{
  "cells": [
    {
      "cell_type": "markdown",
      "metadata": {
        "id": "view-in-github",
        "colab_type": "text"
      },
      "source": [
        "<a href=\"https://colab.research.google.com/github/CheikSama/MIM2020/blob/main/Master_Thesis/Automation_surprise.ipynb\" target=\"_parent\"><img src=\"https://colab.research.google.com/assets/colab-badge.svg\" alt=\"Open In Colab\"/></a>"
      ]
    },
    {
      "cell_type": "code",
      "execution_count": null,
      "metadata": {
        "id": "0F9O1vwx0AD0"
      },
      "outputs": [],
      "source": [
        "from google.colab import drive\n",
        "import pandas as pd\n",
        "import numpy as np\n",
        "import seaborn as sns\n",
        "import matplotlib as plt"
      ]
    },
    {
      "cell_type": "code",
      "execution_count": null,
      "metadata": {
        "colab": {
          "base_uri": "https://localhost:8080/"
        },
        "id": "FraWUvFlFwJ_",
        "outputId": "943aa605-e575-430d-c99f-dd583198e980"
      },
      "outputs": [
        {
          "output_type": "stream",
          "name": "stdout",
          "text": [
            "Drive already mounted at /content/drive; to attempt to forcibly remount, call drive.mount(\"/content/drive\", force_remount=True).\n"
          ]
        }
      ],
      "source": [
        "from google.colab import drive\n",
        "drive.mount('/content/drive')"
      ]
    },
    {
      "cell_type": "code",
      "execution_count": null,
      "metadata": {
        "id": "fcah0LFJ3bIF"
      },
      "outputs": [],
      "source": [
        "\n",
        "data=pd.read_csv(\"/content/drive/MyDrive/Thesis/Automation Surprise_data - Sheet1.csv\")\n",
        "\n",
        "#Remove incomplete questionnaires\n",
        "#Remove survey preview responses\n",
        "\n",
        "data=data.loc[(data[\"Finished\"]==\"True\") & (data[\"Status\"]!=\"Survey Preview\")]\n",
        "\n",
        "data.columns\n",
        "\n",
        "data.drop(axis=1, columns=['StartDate', 'EndDate', 'Status', 'IPAddress', 'Progress',\n",
        "       'Duration (in seconds)', 'Finished', 'RecordedDate', 'ResponseId',\n",
        "       'RecipientLastName', 'RecipientFirstName', 'RecipientEmail',\n",
        "       'ExternalReference', 'LocationLatitude', 'LocationLongitude',\n",
        "       'DistributionChannel', 'UserLanguage'], inplace=True)\n",
        "\n",
        "\n",
        "#rename columns\n",
        "data.rename(columns={\"Q14\":\"Automation experience\",\"Q10\":\"Position\",\n",
        "             \"Q1\":\"Business function_automated\",\"Q6\":\"Description\",\n",
        "'O\\xa0':\"tool used\",'O\\xa0_4_TEXT':\"other_text\",\n",
        "             \"Q12_1\":\"rating_why\",\"Q12_2\":\"rating_how\",\"Q12_3\":\"rating:fix\",\n",
        "             ' ':\"impact_surprise\",\"Q5\":\"People_interaction\",\"Q7\":\"depeartment interaction\",\n",
        "             \"Q11\":\"Contribution\", \"Q15\":\"Digitalisation level\",\"Have you\":\"occurrence surprise\"},inplace=True)\n",
        "\n",
        "data.dropna(axis=0, subset=['Digitalisation level'],how=\"any\", inplace=True)\n",
        "\n",
        "for serie in [\"rating_why\",\"rating_how\",\"rating:fix\"]:\n",
        "    data[serie]=data[serie].astype('int32')"
      ]
    },
    {
      "cell_type": "code",
      "execution_count": null,
      "metadata": {
        "id": "NG09NibaCq_m"
      },
      "outputs": [],
      "source": [
        "\n",
        "data.to_csv(\"/content/drive/MyDrive/Thesis/data_studio.csv\")\n"
      ]
    },
    {
      "cell_type": "code",
      "execution_count": null,
      "metadata": {
        "colab": {
          "base_uri": "https://localhost:8080/",
          "height": 513
        },
        "id": "MINGkD9Wx0YS",
        "outputId": "dde1abd4-e7fa-4c54-af56-97c175c099b0"
      },
      "outputs": [
        {
          "output_type": "stream",
          "name": "stdout",
          "text": [
            "     key_0                                                  0  \\\n",
            "0        0           Procurement, logistics, and distribution   \n",
            "1        0                                         Operations   \n",
            "2        0            Marketing, sales, and customer accounts   \n",
            "3        0                    Customer and aftersales service   \n",
            "4        0  General management and firm infrastructure (ac...   \n",
            "..     ...                                                ...   \n",
            "217    122  General management and firm infrastructure (ac...   \n",
            "218    122  Human resources management (activities related...   \n",
            "219    123  Technology and process development (activities...   \n",
            "220    124            Marketing, sales, and customer accounts   \n",
            "221    124  Technology and process development (activities...   \n",
            "\n",
            "     occurrence surprise  \n",
            "0                    NaN  \n",
            "1                    NaN  \n",
            "2                    NaN  \n",
            "3                    NaN  \n",
            "4                    NaN  \n",
            "..                   ...  \n",
            "217                  3.0  \n",
            "218                  3.0  \n",
            "219                  1.0  \n",
            "220                 15.0  \n",
            "221                 15.0  \n",
            "\n",
            "[222 rows x 3 columns]\n"
          ]
        },
        {
          "output_type": "execute_result",
          "data": {
            "text/plain": [
              "\"#to export\\nimport os\\n\\noutname = 'business_functions.csv'\\n\\noutdir = './dir'\\nif not os.path.exists(outdir):\\n    os.mkdir(outdir)\\n\\nfullname = os.path.join(outdir, outname)    \\n\\n#business_functions.to_csv(fullname)\\nfullname\\n\""
            ],
            "application/vnd.google.colaboratory.intrinsic+json": {
              "type": "string"
            }
          },
          "metadata": {},
          "execution_count": 54
        }
      ],
      "source": [
        "#Create a one dimensionnal dataframe with business functions automated\n",
        "business_functions=data.loc[:,[\"Business function_automated\",\"occurrence surprise\"]]\n",
        "\n",
        "\n",
        "business_functions[\"Business function_automated\"]=business_functions[\"Business function_automated\"].str.split(\"/,\")\n",
        "business_functions.reset_index(inplace=True,drop=True)\n",
        "business_functions=business_functions[\"Business function_automated\"].explode().to_frame()\n",
        "\n",
        "\n",
        "business_functions[\"Business function_automated\"]=business_functions[\"Business function_automated\"].str.replace(\"/\",\"\")\n",
        "#business_functions_group=business_functions.groupby(by=\"Business function_automated\").size().reset_index(name='count')\n",
        "\n",
        "business_functions\n",
        "\n",
        "\"\"\"#to export\n",
        "import os\n",
        "\n",
        "outname = 'business_functions.csv'\n",
        "\n",
        "outdir = './dir'\n",
        "if not os.path.exists(outdir):\n",
        "    os.mkdir(outdir)\n",
        "\n",
        "fullname = os.path.join(outdir, outname)    \n",
        "\n",
        "#business_functions.to_csv(fullname)\n",
        "fullname\n",
        "\"\"\""
      ]
    },
    {
      "cell_type": "code",
      "execution_count": null,
      "metadata": {
        "id": "cB35OvilPW0-"
      },
      "outputs": [],
      "source": [
        "#trnsform to quantitative data\n",
        "\n",
        "\n",
        "data['Size company'].replace({'5001+': 7500,\n",
        "'201-1000 employees':\t600,\n",
        "'51-200 employees':\t125,\n",
        "'1001-5000 employees':\t3000,\n",
        "'1-10 employees':\t5,\n",
        "'11-50 employees':\t30},inplace=True)\n",
        "\n",
        "data['Automation experience'].replace({'Over 1 year, up to 3 years':\t2,\n",
        "'6 months or less':\t0.3,\n",
        "'Over 3 years, up to 5 years':\t4,\n",
        "'Over 6 months, up to 1 year':\t0.7,\n",
        "'Over 5 years':\t7.5},inplace=True)\n",
        " \n",
        "data['occurrence surprise'].replace({'1':\t1,\n",
        "'10 times or more':\t15,\n",
        "'2 to 4 times':\t3,\n",
        "'5 to 9 times':\t7,\n",
        "'1 time':1},inplace=True)\n",
        "\n",
        "data['impact_surprise'].replace({'High: The entire organisation is affected':\t3,\n",
        "'Medium: A group of users are affected':\t2,\n",
        "'Low: A single user is affected':\t1},inplace=True)\n",
        "\n",
        "data['People_interaction'].replace({'Over 10':\t15,\n",
        "'8 to 10':\t9,\n",
        "'2 to 4':\t3,\n",
        "'5 to 7':\t6,\n",
        "'Only you':\t1},inplace=True)\n",
        "\n",
        "data['depeartment interaction'].replace({'5+':\t7,\n",
        "'3':\t3,\n",
        "'2':\t2,\n",
        "'4':\t4,\n",
        "'Only yours': 1},inplace=True)\n",
        "\n",
        "data['Contribution'].replace({'No':\t0,\n",
        "'Yes':\t1},inplace=True)\n",
        "\n",
        "data['Digitalisation level'].replace({\"Expert: Digitalisation is fully implemented within the organisation, the divisions are all vertically and horizontally linked. Digitalisation is actively implemented and fully enshrined within the organisation's culture and strategy\"\t:4,\n",
        "\"Beginner: Digitalisation is the focus of only some of the organisation's divisions and their linkage is rare\":\t2,\n",
        "\"Intermediate: Digitalisation is the focus of most of the organisation's divisions, which are mostly horizontally and vertically linked. The digitalisation mindset is enshrined within the organisation's culture.\":\t3,\n",
        "\"Explorer: The organisation has limited digitalisation\"\t:1}, inplace=True)\n"
      ]
    },
    {
      "cell_type": "code",
      "execution_count": null,
      "metadata": {
        "colab": {
          "base_uri": "https://localhost:8080/"
        },
        "id": "Pwdm5DlKCKwI",
        "outputId": "baed1348-6eb2-4216-809d-f72be5b74097"
      },
      "outputs": [
        {
          "output_type": "execute_result",
          "data": {
            "text/plain": [
              "6                       External software or system\n",
              "7                       External software or system\n",
              "8                                               NaN\n",
              "9                                               NaN\n",
              "10                                              NaN\n",
              "                           ...                     \n",
              "151                                             NaN\n",
              "152                                             NaN\n",
              "153                                             NaN\n",
              "154    Customized system by third party or in-house\n",
              "155                                             NaN\n",
              "Name: other_text, Length: 125, dtype: object"
            ]
          },
          "metadata": {},
          "execution_count": 6
        }
      ],
      "source": [
        "data[\"other_text\"].replace({'Salesforce':'External software or system',\n",
        "'Spendesk':'External software or system',\n",
        "'Custom by McKinsey and my team':'Customized system by third party or in-house',\n",
        "'Accounting system software':'External software or system',\n",
        "'Dedicated test tools developed for the product':'Customized system by third party or in-house',\n",
        "'Shell Script':'Customized system by third party or in-house',\n",
        "'airtable':'External software or system',\n",
        "'Airtable':'External software or system',\n",
        "'proprietary system based on AI':'Customized system by third party or in-house',\n",
        "'Programming software':'Customized system by third party or in-house',\n",
        "'API to an ad serving platform':'',\n",
        "'Backup software':'Customized system by third party or in-house',\n",
        "'Unit 4, Core':'External software or system',\n",
        "'personalised build program':'Customized system by third party or in-house',\n",
        "'Agency programme':'External software or system',\n",
        "'PDA':'External software or system',\n",
        "'monitoring tools':'External software or system',\n",
        "'proprietary OS system from ZTE':'Customized system by third party or in-house',\n",
        "'Internal stock software':'Customized system by third party or in-house',\n",
        "'Automation IT':'Customized system by third party or in-house',\n",
        "'Bespoke System and Confirm Dashboard':'',\n",
        "'software automation':'Customized system by third party or in-house',\n",
        "'Native Software Platform':'External software or system',\n",
        "'SQL Managment Studio':'Customized system by third party or in-house',\n",
        "'Rstudio':'Customized system by third party or in-house',\n",
        "'.NET framework':'External software or system',\n",
        "'Automation Testing Tools (like Katalon)':'External software or system',\n",
        "'Transperfect':'External software or system',\n",
        "'AWS':'External software or system',\n",
        "'SAP Claim Management':'External software or system',\n",
        "'The new Hr system':'External software or system',\n",
        "'Jira, Ranorek, Visual Studio':'Customized system by third party or in-house',\n",
        "'company application':'Customized system by third party or in-house',\n",
        "'Bespoke software':'Customized system by third party or in-house',\n",
        "'Software automation':'Customized system by third party or in-house'},inplace=True)\n",
        "\n",
        "data['tool used']=np.where(data['tool used'] == 'Other', data['other_text'], data['tool used'])\n",
        "data['has technical role']=data['Position'].str.strip().replace({'Working student':0,\n",
        "                                                                 'Pricing Manager':0,\n",
        "                                                                 'Intern in the Global Business Transformation Office':0,\n",
        "                                                                 'Manager':0,'Strategy consultant':0,'Engineer':1,'Director':0,'-':0,'Account manager':0,\n",
        "                                                                 'Recruiter':0,'Working Student':0,'Professor':0,'Product Manager':1,'VP':0,'Vehicle Safety Engineer':1,\n",
        "                                                                 'Employee':0,'Purchasing coordinator':0,'Application Manager':1,'Video Content Creator':1,\n",
        "                                                                 'Head of ERP & Processes':1,'Senior Network Infrastructure Specialist':1,'Head of':0,\n",
        "                                                                 'program manager':0,'Business/Data Analyst/Scientist':1,'Occupational therapist':0,\n",
        "                                                                 'Head of Product':0,'e commerce manager':1,'Family support worker':0,'Developer':1,\n",
        "                                                                 'Head of Development':1,'Analyst':1,'software engineer':1,'Research Assistant':1,\n",
        "                                                                 'Social media manager':0,'Admin':1,'Senior Software Engineer':1,'Teacher':0,'Consultant':0,\n",
        "                                                                 'Assistant Librarian':0,'Marketing Manager':0,'Draughtsman':0,'Business software consultant':1,\n",
        "                                                                 'Policy Officer':0,'Registered nures':0,'Service assistant':0,'Principal Consultant':0,\n",
        "                                                                 'IT Techinician':1,'Police':0,'Infrastructure Architect':1,'Quality assurance tester':1,\n",
        "                                                                 'Administrator':1,'electronic engineer (i+d department)':1,'IT Manager':1,'designer, controller ':1,\n",
        "                                                                 'branch manager':0,'IT Support.':1,'Videographer':0,'Assistant Engineer':1,'Pastoral leader':0,\n",
        "                                                                 'Operations Director':1,'Field Services Team Leader':0,'E-commerce assistant':0,'Sales Coordinator':0,\n",
        "                                                                 'Quality control':1,'Business Development Manager':0,'Market research':0,'Coordinator of my group':0,\n",
        "                                                                 'Professional':0,'Researcher / R&D':1,'Software developer':1,'Legal secretary':0,'Sales assistant':0,\n",
        "                                                                 'Lead product designer':1,'Senior Quality Assurance Analyst':1,'Programmer/Analyst':1,'ACCOUNTANT':0,\n",
        "                                                                 'clerk':0,'HR Officer':0,'customer success executive':0,'Research Engineer':1,\n",
        "                                                                 'Head of Business Support and Improvement':1,'Inspector':0,'Knowledge Engineer':1,'sales':0,\n",
        "                                                                 'Site Supervisor':0,'Regulatory Affairs':0,'Retail assistant':0,'Sales Manager':0,'Executive':0,'Finance':1})"
      ]
    },
    {
      "cell_type": "code",
      "execution_count": null,
      "metadata": {
        "id": "HAitG-kiMqfs"
      },
      "outputs": [],
      "source": [
        "data['tool used']=np.where(data['tool used'] == 'Other', data['other_text'], data['tool used'])\n",
        "data['has technical role']=data['Position'].str.strip().replace({'Working student':0,\n",
        "                                                                 'Pricing Manager':0,\n",
        "                                                                 'Intern in the Global Business Transformation Office':0,\n",
        "                                                                 'Manager':0,'Strategy consultant':0,'Engineer':1,'Director':0,'-':0,'Account manager':0,\n",
        "                                                                 'Recruiter':0,'Working Student':0,'Professor':0,'Product Manager':1,'VP':0,'Vehicle Safety Engineer':1,\n",
        "                                                                 'Employee':0,'Purchasing coordinator':0,'Application Manager':1,'Video Content Creator':1,\n",
        "                                                                 'Head of ERP & Processes':1,'Senior Network Infrastructure Specialist':1,'Head of':0,\n",
        "                                                                 'program manager':0,'Business/Data Analyst/Scientist':1,'Occupational therapist':0,\n",
        "                                                                 'Head of Product':0,'e commerce manager':1,'Family support worker':0,'Developer':1,\n",
        "                                                                 'Head of Development':1,'Analyst':1,'software engineer':1,'Research Assistant':1,\n",
        "                                                                 'Social media manager':0,'Admin':1,'Senior Software Engineer':1,'Teacher':0,'Consultant':0,\n",
        "                                                                 'Assistant Librarian':0,'Marketing Manager':0,'Draughtsman':0,'Business software consultant':1,\n",
        "                                                                 'Policy Officer':0,'Registered nures':0,'Service assistant':0,'Principal Consultant':0,\n",
        "                                                                 'IT Techinician':1,'Police':0,'Infrastructure Architect':1,'Quality assurance tester':1,\n",
        "                                                                 'Administrator':1,'electronic engineer (i+d department)':1,'IT Manager':1,'designer, controller ':1,\n",
        "                                                                 'branch manager':0,'IT Support.':1,'Videographer':0,'Assistant Engineer':1,'Pastoral leader':0,\n",
        "                                                                 'Operations Director':1,'Field Services Team Leader':0,'E-commerce assistant':0,'Sales Coordinator':0,\n",
        "                                                                 'Quality control':1,'Business Development Manager':0,'Market research':0,'Coordinator of my group':0,\n",
        "                                                                 'Professional':0,'Researcher / R&D':1,'Software developer':1,'Legal secretary':0,'Sales assistant':0,\n",
        "                                                                 'Lead product designer':1,'Senior Quality Assurance Analyst':1,'Programmer/Analyst':1,'ACCOUNTANT':0,\n",
        "                                                                 'clerk':0,'HR Officer':0,'customer success executive':0,'Research Engineer':1,\n",
        "                                                                 'Head of Business Support and Improvement':1,'Inspector':0,'Knowledge Engineer':1,'sales':0,\n",
        "                                                                 'Site Supervisor':0,'Regulatory Affairs':0,'Retail assistant':0,'Sales Manager':0,'Executive':0,'Finance':1})"
      ]
    },
    {
      "cell_type": "code",
      "execution_count": null,
      "metadata": {
        "id": "PgdR32cEOyVT"
      },
      "outputs": [],
      "source": [
        ""
      ]
    },
    {
      "cell_type": "code",
      "execution_count": null,
      "metadata": {
        "id": "thhvO8428yvF"
      },
      "outputs": [],
      "source": [
        "\n"
      ]
    }
  ],
  "metadata": {
    "colab": {
      "name": "Automation surprise.ipynb",
      "provenance": [],
      "mount_file_id": "1VgAw56y_q6kIJbrPmiDaO8IRa7XeJcIy",
      "authorship_tag": "ABX9TyPFHtUh5gTzjuyXUeL9Jmrd",
      "include_colab_link": true
    },
    "kernelspec": {
      "display_name": "Python 3",
      "name": "python3"
    },
    "language_info": {
      "name": "python"
    }
  },
  "nbformat": 4,
  "nbformat_minor": 0
}